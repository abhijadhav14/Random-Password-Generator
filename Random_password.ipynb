{
  "nbformat": 4,
  "nbformat_minor": 0,
  "metadata": {
    "colab": {
      "provenance": [],
      "include_colab_link": true
    },
    "kernelspec": {
      "name": "python3",
      "display_name": "Python 3"
    },
    "language_info": {
      "name": "python"
    }
  },
  "cells": [
    {
      "cell_type": "markdown",
      "metadata": {
        "id": "view-in-github",
        "colab_type": "text"
      },
      "source": [
        "<a href=\"https://colab.research.google.com/github/abhijadhav14/Random-Password-Generator/blob/main/Random_password.ipynb\" target=\"_parent\"><img src=\"https://colab.research.google.com/assets/colab-badge.svg\" alt=\"Open In Colab\"/></a>"
      ]
    },
    {
      "cell_type": "code",
      "execution_count": null,
      "metadata": {
        "colab": {
          "base_uri": "https://localhost:8080/"
        },
        "id": "eW6Aqi8mr-Me",
        "outputId": "051669ba-cc87-4fb3-9047-f7c731d65561"
      },
      "outputs": [
        {
          "output_type": "stream",
          "name": "stdout",
          "text": [
            "Enter password length: 9\n",
            "@Syk4lxVx\n"
          ]
        }
      ],
      "source": [
        "import string\n",
        "import random\n",
        "\n",
        "\n",
        "## characters to generate password from\n",
        "characters = list(string.ascii_letters + string.digits + \"!@#$%^&*()\")\n",
        "\n",
        "def generate_random_password():\n",
        "\t## length of password from the user\n",
        "\tlength = int(input(\"Enter password length: \"))\n",
        "\n",
        "\t## shuffling the characters\n",
        "\trandom.shuffle(characters)\n",
        "\n",
        "\t## picking random characters from the list\n",
        "\tpassword = []\n",
        "\tfor i in range(length):\n",
        "\t\tpassword.append(random.choice(characters))\n",
        "\n",
        "\t## shuffling the resultant password\n",
        "\trandom.shuffle(password)\n",
        "\n",
        "\t## converting the list to string\n",
        "\t## printing the list\n",
        "\tprint(\"\".join(password))\n",
        "\n",
        "\n",
        "\n",
        "## invoking the function\n",
        "generate_random_password()"
      ]
    }
  ]
}